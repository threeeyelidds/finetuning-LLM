{
 "cells": [
  {
   "cell_type": "code",
   "execution_count": 30,
   "metadata": {},
   "outputs": [
    {
     "name": "stdout",
     "output_type": "stream",
     "text": [
      "{'response': 'The image features a large blue city bus with the word Pittsburgh written on it.'}\n"
     ]
    }
   ],
   "source": [
    "import requests\n",
    "\n",
    "# Define the URL for the Flask app\n",
    "# app_url = 'http://localhost:5000'  # Update the URL as needed\n",
    "app_url = \"https://a7de-128-237-82-9.ngrok-free.app/vlm\"\n",
    "\n",
    "# Define the image file to upload\n",
    "image_file = {'image': open('../images/bus.jpeg', 'rb')}\n",
    "prompt1 = \"Describe the objects in the image and summarize\"\n",
    "prompt2 = \"list all objects in the image\"\n",
    "\n",
    "try:\n",
    "    # Send a POST request with the image file\n",
    "    response = requests.post(app_url, files=image_file, data={'text': prompt2})\n",
    "    data = response.json()\n",
    "    print(data)\n",
    "    if 'result' in data:\n",
    "        print(\"Extracted Text:\", data['result'])\n",
    "    elif 'error' in data:\n",
    "        print(\"Error:\", data['error'])\n",
    "\n",
    "except requests.exceptions.RequestException as e:\n",
    "    print(\"Request Error:\", e)\n"
   ]
  },
  {
   "cell_type": "code",
   "execution_count": 29,
   "metadata": {},
   "outputs": [
    {
     "name": "stdout",
     "output_type": "stream",
     "text": [
      "{'response': '<bos>write the solution of two sum problem using brute force approach:\\n\\n```python\\ndef twoSum(nums, target):\\n    \"\"\"\\n    :type nums: List[int]\\n    :type target: int\\n    :rtype: List[int]\\n    \"\"\"\\n    # Create a dictionary to store the complement of the target\\n    complement_dict = {}\\n    \\n    # Iterate through the list\\n    for i, num in enumerate(nums):\\n        # Check if the complement is in the dictionary\\n        if target - num in complement_dict:\\n            # Return the indices of both numbers\\n            return [i, complement_dict[target - num]]\\n        # Add the number and its index to the dictionary\\n        complement_dict[num] = i\\n    # If no pair is found, return an empty list\\n    return []\\n```\\n\\n**Example Usage:**\\n\\n```python\\nnums = [2, 7, 11, 15]\\ntarget = 9\\n\\nresult = twoSum(nums, target)\\n\\nprint(result)\\n```\\n\\n**Output:**\\n\\n```\\n[0, 1]\\n```\\n\\n**Explanation:**\\n\\n1. We use a dictionary to store the complement of the target.\\n2. We iterate through the list and for each element, we check if the complement is in the dictionary.\\n3. If the complement is found, we return the indices of both numbers.\\n4. If no pair is found, we return an empty list.<eos>'}\n"
     ]
    }
   ],
   "source": [
    "import requests\n",
    "\n",
    "# Define the URL for the Flask app\n",
    "app_url = \"https://a7de-128-237-82-9.ngrok-free.app/llm\"\n",
    "\n",
    "# Use text prompt\n",
    "prompt = \"write the solution of two sum\"\n",
    "\n",
    "try:\n",
    "    # Send a POST request with the image file\n",
    "    response = requests.post(app_url, data={'text': prompt})\n",
    "    data = response.json()\n",
    "    print(data)\n",
    "    if 'result' in data:\n",
    "        print(\"Extracted Text:\", data['result'])\n",
    "    elif 'error' in data:\n",
    "        print(\"Error:\", data['error'])\n",
    "\n",
    "except requests.exceptions.RequestException as e:\n",
    "    print(\"Request Error:\", e)"
   ]
  },
  {
   "cell_type": "code",
   "execution_count": 28,
   "metadata": {},
   "outputs": [
    {
     "name": "stdout",
     "output_type": "stream",
     "text": [
      "{'response': None}\n"
     ]
    }
   ],
   "source": [
    "import requests\n",
    "import json\n",
    "\n",
    "# Define the URL for the Flask app\n",
    "app_url = \"https://a7de-128-237-82-9.ngrok-free.app/llm-chat\"\n",
    "\n",
    "# Use text prompt\n",
    "chat = [\n",
    "    # {\"role\": \"system\", \"content\": \"You are a helpful and honest assistant.\"},\n",
    "    {\"role\": \"user\", \"content\": \"write the solution of two sum\"}\n",
    "]\n",
    "\n",
    "try:\n",
    "    # Send a POST request with the chat list as JSON\n",
    "    headers = {'Content-Type': 'application/json'}\n",
    "    response = requests.post(app_url, data=json.dumps({\"chat\": chat}), headers=headers)\n",
    "    data = response.json()\n",
    "    print(data)\n",
    "    if 'result' in data:\n",
    "        print(\"Extracted Text:\", data['result'])\n",
    "    elif 'error' in data:\n",
    "        print(\"Error:\", data['error'])\n",
    "\n",
    "except requests.exceptions.RequestException as e:\n",
    "    print(\"Request Error:\", e)"
   ]
  },
  {
   "cell_type": "code",
   "execution_count": null,
   "metadata": {},
   "outputs": [],
   "source": []
  }
 ],
 "metadata": {
  "kernelspec": {
   "display_name": "kosmos2",
   "language": "python",
   "name": "python3"
  },
  "language_info": {
   "codemirror_mode": {
    "name": "ipython",
    "version": 3
   },
   "file_extension": ".py",
   "mimetype": "text/x-python",
   "name": "python",
   "nbconvert_exporter": "python",
   "pygments_lexer": "ipython3",
   "version": "3.10.12"
  },
  "orig_nbformat": 4
 },
 "nbformat": 4,
 "nbformat_minor": 2
}
