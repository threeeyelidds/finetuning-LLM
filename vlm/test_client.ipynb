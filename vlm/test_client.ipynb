{
 "cells": [
  {
   "cell_type": "code",
   "execution_count": 8,
   "metadata": {},
   "outputs": [
    {
     "name": "stdout",
     "output_type": "stream",
     "text": [
      "{'response': 'The image features a large blue city bus with the word Pittsburgh written on it.'}\n"
     ]
    }
   ],
   "source": [
    "import requests\n",
    "\n",
    "# Define the URL for the Flask app\n",
    "app_url = 'http://localhost:5000'  # Update the URL as needed\n",
    "app_url = \"https://a7de-128-237-82-9.ngrok-free.app\"\n",
    "\n",
    "# Define the image file to upload\n",
    "image_file = {'image': open('../images/bus.jpeg', 'rb')}\n",
    "prompt1 = \"Describe the objects in the image and summarize\"\n",
    "prompt2 = \"list all objects in the image\"\n",
    "\n",
    "try:\n",
    "    # Send a POST request with the image file\n",
    "    response = requests.post(app_url, files=image_file, data={'text': prompt2})\n",
    "    data = response.json()\n",
    "    print(data)\n",
    "    if 'result' in data:\n",
    "        print(\"Extracted Text:\", data['result'])\n",
    "    elif 'error' in data:\n",
    "        print(\"Error:\", data['error'])\n",
    "\n",
    "except requests.exceptions.RequestException as e:\n",
    "    print(\"Request Error:\", e)\n"
   ]
  },
  {
   "cell_type": "code",
   "execution_count": null,
   "metadata": {},
   "outputs": [],
   "source": []
  }
 ],
 "metadata": {
  "kernelspec": {
   "display_name": "kosmos2",
   "language": "python",
   "name": "python3"
  },
  "language_info": {
   "codemirror_mode": {
    "name": "ipython",
    "version": 3
   },
   "file_extension": ".py",
   "mimetype": "text/x-python",
   "name": "python",
   "nbconvert_exporter": "python",
   "pygments_lexer": "ipython3",
   "version": "3.10.12"
  },
  "orig_nbformat": 4
 },
 "nbformat": 4,
 "nbformat_minor": 2
}
